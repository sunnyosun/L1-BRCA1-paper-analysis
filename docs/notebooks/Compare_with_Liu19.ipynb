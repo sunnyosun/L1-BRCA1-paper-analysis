{
 "cells": [
  {
   "cell_type": "markdown",
   "metadata": {},
   "source": [
    "# Compare_with_Liu19"
   ]
  },
  {
   "cell_type": "code",
   "execution_count": 2,
   "metadata": {},
   "outputs": [],
   "source": [
    "import numpy as np\n",
    "import pandas as pd\n",
    "import scanpy as sc\n",
    "from matplotlib import pyplot as plt"
   ]
  },
  {
   "cell_type": "code",
   "execution_count": 3,
   "metadata": {},
   "outputs": [],
   "source": [
    "sc.set_figure_params(frameon=False)"
   ]
  },
  {
   "cell_type": "code",
   "execution_count": 4,
   "metadata": {},
   "outputs": [
    {
     "data": {
      "text/plain": [
       "['K562_L1-G418_second_screen',\n",
       " 'HeLa-L1-G418_second_screen',\n",
       " 'K562_(opt)-L1-G418R']"
      ]
     },
     "execution_count": 4,
     "metadata": {},
     "output_type": "execute_result"
    }
   ],
   "source": [
    "filename = '../data/liu19/nature25179-s4.xlsx'\n",
    "exl = pd.ExcelFile(filename)\n",
    "exl.sheet_names"
   ]
  },
  {
   "cell_type": "code",
   "execution_count": 5,
   "metadata": {},
   "outputs": [],
   "source": [
    "k562_wg = pd.read_excel(filename, sheet_name='K562_L1-G418_second_screen')"
   ]
  },
  {
   "cell_type": "code",
   "execution_count": 6,
   "metadata": {},
   "outputs": [],
   "source": [
    "hela_wg = pd.read_excel(filename, sheet_name='HeLa-L1-G418_second_screen')"
   ]
  },
  {
   "cell_type": "code",
   "execution_count": 7,
   "metadata": {},
   "outputs": [
    {
     "data": {
      "text/html": [
       "<div>\n",
       "<style scoped>\n",
       "    .dataframe tbody tr th:only-of-type {\n",
       "        vertical-align: middle;\n",
       "    }\n",
       "\n",
       "    .dataframe tbody tr th {\n",
       "        vertical-align: top;\n",
       "    }\n",
       "\n",
       "    .dataframe thead th {\n",
       "        text-align: right;\n",
       "    }\n",
       "</style>\n",
       "<table border=\"1\" class=\"dataframe\">\n",
       "  <thead>\n",
       "    <tr style=\"text-align: right;\">\n",
       "      <th></th>\n",
       "      <th>#GeneID</th>\n",
       "      <th>Symbol</th>\n",
       "      <th>GeneInfo</th>\n",
       "      <th>Localization</th>\n",
       "      <th>Process</th>\n",
       "      <th>Function</th>\n",
       "      <th># elements 1</th>\n",
       "      <th>casTLE Effect 1</th>\n",
       "      <th>casTLE Score 1</th>\n",
       "      <th># elements 2</th>\n",
       "      <th>casTLE Effect 2</th>\n",
       "      <th>casTLE Score 2</th>\n",
       "      <th>Combo casTLE Effect</th>\n",
       "      <th>Combo casTLE Score</th>\n",
       "      <th>Minimum Effect 95% Credible Interval Estimate</th>\n",
       "      <th>Maximum Effect 95% Credible Interval Estimate</th>\n",
       "    </tr>\n",
       "  </thead>\n",
       "  <tbody>\n",
       "    <tr>\n",
       "      <th>0</th>\n",
       "      <td>ENSG00000127837</td>\n",
       "      <td>AAMP</td>\n",
       "      <td>angio-associated, migratory cell protein</td>\n",
       "      <td>cytoplasm|plasma membrane|cell surface|</td>\n",
       "      <td>angiogenesis|positive regulation of endothelia...</td>\n",
       "      <td>heparin binding|</td>\n",
       "      <td>10</td>\n",
       "      <td>2.7</td>\n",
       "      <td>21.900</td>\n",
       "      <td>10</td>\n",
       "      <td>1.6</td>\n",
       "      <td>51.60</td>\n",
       "      <td>2.6</td>\n",
       "      <td>70.000</td>\n",
       "      <td>1.9</td>\n",
       "      <td>4.7</td>\n",
       "    </tr>\n",
       "    <tr>\n",
       "      <th>1</th>\n",
       "      <td>ENSG00000184009</td>\n",
       "      <td>ACTG1</td>\n",
       "      <td>actin, gamma 1</td>\n",
       "      <td>extracellular space|nucleus|cytosol|cytoskelet...</td>\n",
       "      <td>retina homeostasis|cellular component movement...</td>\n",
       "      <td>structural constituent of cytoskeleton|protein...</td>\n",
       "      <td>9</td>\n",
       "      <td>-0.6</td>\n",
       "      <td>1.210</td>\n",
       "      <td>10</td>\n",
       "      <td>-1.1</td>\n",
       "      <td>5.91</td>\n",
       "      <td>-1.0</td>\n",
       "      <td>5.440</td>\n",
       "      <td>-2.0</td>\n",
       "      <td>-0.3</td>\n",
       "    </tr>\n",
       "    <tr>\n",
       "      <th>2</th>\n",
       "      <td>ENSG00000187003</td>\n",
       "      <td>ACTL7A</td>\n",
       "      <td>actin-like 7A</td>\n",
       "      <td>male germ cell nucleus|nucleus|cytoplasm|Golgi...</td>\n",
       "      <td>None</td>\n",
       "      <td>structural constituent of cytoskeleton|</td>\n",
       "      <td>10</td>\n",
       "      <td>0.0</td>\n",
       "      <td>0.000</td>\n",
       "      <td>10</td>\n",
       "      <td>-0.5</td>\n",
       "      <td>3.27</td>\n",
       "      <td>-0.4</td>\n",
       "      <td>0.704</td>\n",
       "      <td>-1.7</td>\n",
       "      <td>1.1</td>\n",
       "    </tr>\n",
       "    <tr>\n",
       "      <th>3</th>\n",
       "      <td>ENSG00000189007</td>\n",
       "      <td>ADAT2</td>\n",
       "      <td>adenosine deaminase, tRNA-specific 2</td>\n",
       "      <td>None</td>\n",
       "      <td>tRNA wobble adenosine to inosine editing|</td>\n",
       "      <td>tRNA-specific adenosine deaminase activity|zin...</td>\n",
       "      <td>9</td>\n",
       "      <td>-0.6</td>\n",
       "      <td>0.912</td>\n",
       "      <td>10</td>\n",
       "      <td>-0.6</td>\n",
       "      <td>10.20</td>\n",
       "      <td>-0.6</td>\n",
       "      <td>10.900</td>\n",
       "      <td>-2.0</td>\n",
       "      <td>2.2</td>\n",
       "    </tr>\n",
       "    <tr>\n",
       "      <th>4</th>\n",
       "      <td>ENSG00000123908</td>\n",
       "      <td>AGO2</td>\n",
       "      <td>argonaute RISC catalytic component 2</td>\n",
       "      <td>cytoplasmic mRNA processing body|nucleus|cytop...</td>\n",
       "      <td>transcription, DNA-templated|regulation of tra...</td>\n",
       "      <td>RNA 7-methylguanosine cap binding|mRNA binding...</td>\n",
       "      <td>10</td>\n",
       "      <td>-0.3</td>\n",
       "      <td>3.800</td>\n",
       "      <td>10</td>\n",
       "      <td>-0.4</td>\n",
       "      <td>3.57</td>\n",
       "      <td>-0.4</td>\n",
       "      <td>7.010</td>\n",
       "      <td>-0.9</td>\n",
       "      <td>-0.1</td>\n",
       "    </tr>\n",
       "  </tbody>\n",
       "</table>\n",
       "</div>"
      ],
      "text/plain": [
       "           #GeneID  Symbol                                  GeneInfo  \\\n",
       "0  ENSG00000127837    AAMP  angio-associated, migratory cell protein   \n",
       "1  ENSG00000184009   ACTG1                            actin, gamma 1   \n",
       "2  ENSG00000187003  ACTL7A                             actin-like 7A   \n",
       "3  ENSG00000189007   ADAT2      adenosine deaminase, tRNA-specific 2   \n",
       "4  ENSG00000123908    AGO2      argonaute RISC catalytic component 2   \n",
       "\n",
       "                                        Localization  \\\n",
       "0            cytoplasm|plasma membrane|cell surface|   \n",
       "1  extracellular space|nucleus|cytosol|cytoskelet...   \n",
       "2  male germ cell nucleus|nucleus|cytoplasm|Golgi...   \n",
       "3                                               None   \n",
       "4  cytoplasmic mRNA processing body|nucleus|cytop...   \n",
       "\n",
       "                                             Process  \\\n",
       "0  angiogenesis|positive regulation of endothelia...   \n",
       "1  retina homeostasis|cellular component movement...   \n",
       "2                                               None   \n",
       "3          tRNA wobble adenosine to inosine editing|   \n",
       "4  transcription, DNA-templated|regulation of tra...   \n",
       "\n",
       "                                            Function  # elements 1  \\\n",
       "0                                   heparin binding|            10   \n",
       "1  structural constituent of cytoskeleton|protein...             9   \n",
       "2            structural constituent of cytoskeleton|            10   \n",
       "3  tRNA-specific adenosine deaminase activity|zin...             9   \n",
       "4  RNA 7-methylguanosine cap binding|mRNA binding...            10   \n",
       "\n",
       "   casTLE Effect 1  casTLE Score 1  # elements 2  casTLE Effect 2  \\\n",
       "0              2.7          21.900            10              1.6   \n",
       "1             -0.6           1.210            10             -1.1   \n",
       "2              0.0           0.000            10             -0.5   \n",
       "3             -0.6           0.912            10             -0.6   \n",
       "4             -0.3           3.800            10             -0.4   \n",
       "\n",
       "   casTLE Score 2  Combo casTLE Effect  Combo casTLE Score  \\\n",
       "0           51.60                  2.6              70.000   \n",
       "1            5.91                 -1.0               5.440   \n",
       "2            3.27                 -0.4               0.704   \n",
       "3           10.20                 -0.6              10.900   \n",
       "4            3.57                 -0.4               7.010   \n",
       "\n",
       "   Minimum Effect 95% Credible Interval Estimate  \\\n",
       "0                                            1.9   \n",
       "1                                           -2.0   \n",
       "2                                           -1.7   \n",
       "3                                           -2.0   \n",
       "4                                           -0.9   \n",
       "\n",
       "   Maximum Effect 95% Credible Interval Estimate  \n",
       "0                                            4.7  \n",
       "1                                           -0.3  \n",
       "2                                            1.1  \n",
       "3                                            2.2  \n",
       "4                                           -0.1  "
      ]
     },
     "execution_count": 7,
     "metadata": {},
     "output_type": "execute_result"
    }
   ],
   "source": [
    "k562_wg.head()"
   ]
  },
  {
   "cell_type": "code",
   "execution_count": 8,
   "metadata": {},
   "outputs": [],
   "source": [
    "# secondary screen from Liu18\n",
    "filename = '../data/liu19/genes that pass secondary in HeLa and K562(164).xlsx'\n",
    "secd = pd.read_excel(filename)\n",
    "k562 = np.append(secd['in common K562 and HeLa(89)'], secd['K562only(53)'])\n",
    "k562 = [i for i in k562 if type(i)==str]\n",
    "hela = np.append(secd['in common K562 and HeLa(89)'], secd['HeLa only(22)'])\n",
    "hela = [i for i in hela if type(i)==str]"
   ]
  },
  {
   "cell_type": "code",
   "execution_count": 16,
   "metadata": {},
   "outputs": [],
   "source": [
    "# match back to the whole genome screen Liu18 to get the directions\n",
    "k562_liu = k562_wg[k562_wg['Symbol'].isin(k562)]\n",
    "k562_liu_up = k562_liu[k562_liu['Combo casTLE Effect'] > 0]\n",
    "k562_liu_dw = k562_liu[k562_liu['Combo casTLE Effect'] < 0]"
   ]
  },
  {
   "cell_type": "code",
   "execution_count": 20,
   "metadata": {},
   "outputs": [
    {
     "name": "stdout",
     "output_type": "stream",
     "text": [
      "84 58\n"
     ]
    }
   ],
   "source": [
    "print(k562_liu_up.shape[0], k562_liu_dw.shape[0])"
   ]
  },
  {
   "cell_type": "code",
   "execution_count": 18,
   "metadata": {},
   "outputs": [],
   "source": [
    "hela_liu = hela_wg[hela_wg['Symbol'].isin(hela)]\n",
    "hela_liu_up = hela_liu[hela_liu['Combo casTLE Effect'] > 0]\n",
    "hela_liu_dw = hela_liu[hela_liu['Combo casTLE Effect'] < 0]"
   ]
  },
  {
   "cell_type": "code",
   "execution_count": 21,
   "metadata": {},
   "outputs": [
    {
     "name": "stdout",
     "output_type": "stream",
     "text": [
      "59 52\n"
     ]
    }
   ],
   "source": [
    "print(hela_liu_up.shape[0], hela_liu_dw.shape[0])"
   ]
  },
  {
   "cell_type": "code",
   "execution_count": 47,
   "metadata": {},
   "outputs": [],
   "source": [
    "liu_up = list(set(np.append(k562_liu_up['Symbol'],hela_liu_up['Symbol'])))\n",
    "liu_dw = list(set(np.append(k562_liu_dw['Symbol'],hela_liu_dw['Symbol'])))"
   ]
  },
  {
   "cell_type": "markdown",
   "metadata": {},
   "source": [
    "## comparison"
   ]
  },
  {
   "cell_type": "code",
   "execution_count": 22,
   "metadata": {},
   "outputs": [],
   "source": [
    "# load our data\n",
    "data = pd.read_csv('../data/genes_all_GFP_updown.txt', sep='\\t')\n",
    "up_genes = data.loc[data['up_down'] == 'U']['CompoundId'].to_list()\n",
    "dw_genes = data.loc[data['up_down'] == 'D']['CompoundId'].to_list()"
   ]
  },
  {
   "cell_type": "code",
   "execution_count": 23,
   "metadata": {},
   "outputs": [
    {
     "data": {
      "text/plain": [
       "220"
      ]
     },
     "execution_count": 23,
     "metadata": {},
     "output_type": "execute_result"
    }
   ],
   "source": [
    "len(up_genes)"
   ]
  },
  {
   "cell_type": "code",
   "execution_count": 24,
   "metadata": {},
   "outputs": [
    {
     "data": {
      "text/plain": [
       "2681"
      ]
     },
     "execution_count": 24,
     "metadata": {},
     "output_type": "execute_result"
    }
   ],
   "source": [
    "len(dw_genes)"
   ]
  },
  {
   "cell_type": "code",
   "execution_count": 25,
   "metadata": {},
   "outputs": [],
   "source": [
    "def intersection(lst1, lst2):\n",
    "    lst3 = [value for value in lst1 if value in lst2]\n",
    "    return lst3"
   ]
  },
  {
   "cell_type": "code",
   "execution_count": 30,
   "metadata": {},
   "outputs": [],
   "source": [
    "from matplotlib_venn import venn2"
   ]
  },
  {
   "cell_type": "code",
   "execution_count": 35,
   "metadata": {},
   "outputs": [
    {
     "data": {
      "image/png": "[encoded data removed]",
      "text/plain": [
       "<Figure size 320x320 with 1 Axes>"
      ]
     },
     "metadata": {
      "image/png": {
       "height": 205,
       "width": 271
      }
     },
     "output_type": "display_data"
    }
   ],
   "source": [
    "venn2([set(up_genes), set(hela_liu_up['Symbol'])], set_labels = ('This study', 'Liu18'))\n",
    "plt.show()"
   ]
  },
  {
   "cell_type": "code",
   "execution_count": 36,
   "metadata": {},
   "outputs": [
    {
     "data": {
      "image/png": "[encoded data removed]",
      "text/plain": [
       "<Figure size 320x320 with 1 Axes>"
      ]
     },
     "metadata": {
      "image/png": {
       "height": 251,
       "width": 285
      }
     },
     "output_type": "display_data"
    }
   ],
   "source": [
    "venn2([set(dw_genes), set(hela_liu_dw['Symbol'])], set_labels = ('This study', 'Liu18'))\n",
    "plt.show()"
   ]
  },
  {
   "cell_type": "code",
   "execution_count": 45,
   "metadata": {},
   "outputs": [
    {
     "data": {
      "image/png": "[encoded data removed]",
      "text/plain": [
       "<Figure size 320x320 with 1 Axes>"
      ]
     },
     "metadata": {
      "image/png": {
       "height": 209,
       "width": 278
      }
     },
     "output_type": "display_data"
    }
   ],
   "source": [
    "venn2([set(up_genes), set(liu_up)], set_labels = ('This study', 'Liu18'))\n",
    "plt.title('Inhibitors of L1')\n",
    "plt.show()"
   ]
  },
  {
   "cell_type": "code",
   "execution_count": 46,
   "metadata": {},
   "outputs": [
    {
     "data": {
      "text/plain": [
       "['BRCA1', 'FANCB', 'KPTN', 'FANCM', 'PALB2']"
      ]
     },
     "execution_count": 46,
     "metadata": {},
     "output_type": "execute_result"
    }
   ],
   "source": [
    "intersection(up_genes, liu_up)"
   ]
  },
  {
   "cell_type": "code",
   "execution_count": 49,
   "metadata": {},
   "outputs": [
    {
     "data": {
      "image/png": "[encoded data removed]",
      "text/plain": [
       "<Figure size 320x320 with 1 Axes>"
      ]
     },
     "metadata": {
      "image/png": {
       "height": 264,
       "width": 282
      }
     },
     "output_type": "display_data"
    }
   ],
   "source": [
    "venn2([set(dw_genes), set(liu_dw)], set_labels = ('This study', 'Liu18'))\n",
    "plt.title('Supporters of L1')\n",
    "plt.show()"
   ]
  },
  {
   "cell_type": "code",
   "execution_count": 50,
   "metadata": {},
   "outputs": [
    {
     "data": {
      "text/plain": [
       "['STK17A',\n",
       " 'XRCC2',\n",
       " 'XRCC6',\n",
       " 'FCGR1B',\n",
       " 'MRE11A',\n",
       " 'RCL1',\n",
       " 'SNUPN',\n",
       " 'RAD50',\n",
       " 'CBX1',\n",
       " 'SYNCRIP',\n",
       " 'HECTD1',\n",
       " 'TIMM8B',\n",
       " 'PABPC1',\n",
       " 'ZFR',\n",
       " 'FASTKD2',\n",
       " 'MRPL28']"
      ]
     },
     "execution_count": 50,
     "metadata": {},
     "output_type": "execute_result"
    }
   ],
   "source": [
    "intersection(dw_genes, liu_dw)"
   ]
  },
  {
   "cell_type": "code",
   "execution_count": null,
   "metadata": {},
   "outputs": [],
   "source": []
  }
 ],
 "metadata": {
  "kernelspec": {
   "display_name": "Python 3",
   "language": "python",
   "name": "python3"
  },
  "language_info": {
   "codemirror_mode": {
    "name": "ipython",
    "version": 3
   },
   "file_extension": ".py",
   "mimetype": "text/x-python",
   "name": "python",
   "nbconvert_exporter": "python",
   "pygments_lexer": "ipython3",
   "version": "3.6.8"
  }
 },
 "nbformat": 4,
 "nbformat_minor": 2
}
