{
 "cells": [
  {
   "cell_type": "markdown",
   "metadata": {},
   "source": [
    "# Compare_with_Liu19"
   ]
  },
  {
   "cell_type": "code",
   "execution_count": 1,
   "metadata": {},
   "outputs": [],
   "source": [
    "import numpy as np\n",
    "import pandas as pd\n",
    "import scanpy as sc\n",
    "from matplotlib import pyplot as plt"
   ]
  },
  {
   "cell_type": "code",
   "execution_count": 2,
   "metadata": {},
   "outputs": [],
   "source": [
    "sc.set_figure_params(frameon=False)"
   ]
  },
  {
   "cell_type": "code",
   "execution_count": 3,
   "metadata": {},
   "outputs": [
    {
     "data": {
      "text/plain": [
       "['Genome_wide_screen_K562', 'Genome_wide_screen _HeLa']"
      ]
     },
     "execution_count": 3,
     "metadata": {},
     "output_type": "execute_result"
    }
   ],
   "source": [
    "filename = '../data/liu19/nature25179-s3 PASS_FAIL.xlsx'\n",
    "exl = pd.ExcelFile(filename)\n",
    "exl.sheet_names"
   ]
  },
  {
   "cell_type": "code",
   "execution_count": 4,
   "metadata": {},
   "outputs": [],
   "source": [
    "k562_wg = pd.read_excel(filename, sheet_name='Genome_wide_screen_K562')"
   ]
  },
  {
   "cell_type": "code",
   "execution_count": 5,
   "metadata": {},
   "outputs": [],
   "source": [
    "hela_wg = pd.read_excel(filename, sheet_name='Genome_wide_screen _HeLa')"
   ]
  },
  {
   "cell_type": "code",
   "execution_count": 6,
   "metadata": {},
   "outputs": [
    {
     "data": {
      "text/html": [
       "<div>\n",
       "<style scoped>\n",
       "    .dataframe tbody tr th:only-of-type {\n",
       "        vertical-align: middle;\n",
       "    }\n",
       "\n",
       "    .dataframe tbody tr th {\n",
       "        vertical-align: top;\n",
       "    }\n",
       "\n",
       "    .dataframe thead th {\n",
       "        text-align: right;\n",
       "    }\n",
       "</style>\n",
       "<table border=\"1\" class=\"dataframe\">\n",
       "  <thead>\n",
       "    <tr style=\"text-align: right;\">\n",
       "      <th></th>\n",
       "      <th>#GeneID</th>\n",
       "      <th>Symbol</th>\n",
       "      <th>GeneInfo</th>\n",
       "      <th>Localization</th>\n",
       "      <th>Process</th>\n",
       "      <th>Function</th>\n",
       "      <th># elements 1</th>\n",
       "      <th>casTLE Effect 1</th>\n",
       "      <th>casTLE Score 1</th>\n",
       "      <th># elements 2</th>\n",
       "      <th>casTLE Effect 2</th>\n",
       "      <th>casTLE Score 2</th>\n",
       "      <th>Combo casTLE Effect</th>\n",
       "      <th>Combo casTLE Score</th>\n",
       "      <th>casTLE p-value</th>\n",
       "      <th>q-value</th>\n",
       "      <th>Minimum Effect 95% Credible Interval Estimate</th>\n",
       "      <th>Maximum Effect 95% Credible Interval Estimate</th>\n",
       "      <th>Unnamed: 18</th>\n",
       "    </tr>\n",
       "  </thead>\n",
       "  <tbody>\n",
       "    <tr>\n",
       "      <th>0</th>\n",
       "      <td>ENSG00000163946</td>\n",
       "      <td>FAM208A</td>\n",
       "      <td>family with sequence similarity 208, member A</td>\n",
       "      <td>None</td>\n",
       "      <td>None</td>\n",
       "      <td>poly(A) RNA binding|</td>\n",
       "      <td>10</td>\n",
       "      <td>3.3</td>\n",
       "      <td>35.5</td>\n",
       "      <td>9</td>\n",
       "      <td>2.9</td>\n",
       "      <td>43.7</td>\n",
       "      <td>3.1</td>\n",
       "      <td>78.8</td>\n",
       "      <td>0.000001</td>\n",
       "      <td>0.002561</td>\n",
       "      <td>2.3</td>\n",
       "      <td>4.3</td>\n",
       "      <td>PASS</td>\n",
       "    </tr>\n",
       "    <tr>\n",
       "      <th>1</th>\n",
       "      <td>ENSG00000133422</td>\n",
       "      <td>MORC2</td>\n",
       "      <td>MORC family CW-type zinc finger 2</td>\n",
       "      <td>nucleus|cytoplasm|cytosol|</td>\n",
       "      <td>None</td>\n",
       "      <td>ATP binding|zinc ion binding|</td>\n",
       "      <td>10</td>\n",
       "      <td>3.1</td>\n",
       "      <td>36.5</td>\n",
       "      <td>10</td>\n",
       "      <td>2.9</td>\n",
       "      <td>40.8</td>\n",
       "      <td>3.0</td>\n",
       "      <td>76.8</td>\n",
       "      <td>0.000001</td>\n",
       "      <td>0.002561</td>\n",
       "      <td>2.2</td>\n",
       "      <td>4.1</td>\n",
       "      <td>PASS</td>\n",
       "    </tr>\n",
       "    <tr>\n",
       "      <th>2</th>\n",
       "      <td>ENSG00000116809</td>\n",
       "      <td>ZBTB17</td>\n",
       "      <td>zinc finger and BTB domain containing 17</td>\n",
       "      <td>nucleoplasm|</td>\n",
       "      <td>gastrulation with mouth forming second|transcr...</td>\n",
       "      <td>DNA binding|sequence-specific DNA binding tran...</td>\n",
       "      <td>10</td>\n",
       "      <td>-5.2</td>\n",
       "      <td>22.6</td>\n",
       "      <td>9</td>\n",
       "      <td>-2.8</td>\n",
       "      <td>27.6</td>\n",
       "      <td>-5.1</td>\n",
       "      <td>49.2</td>\n",
       "      <td>0.000001</td>\n",
       "      <td>0.002561</td>\n",
       "      <td>-7.6</td>\n",
       "      <td>-1.7</td>\n",
       "      <td>PASS</td>\n",
       "    </tr>\n",
       "    <tr>\n",
       "      <th>3</th>\n",
       "      <td>ENSG00000107290</td>\n",
       "      <td>SETX</td>\n",
       "      <td>senataxin</td>\n",
       "      <td>nucleus|nucleoplasm|nucleolus|cytoplasm|</td>\n",
       "      <td>double-strand break repair|termination of RNA ...</td>\n",
       "      <td>DNA binding|DNA helicase activity|ATP binding|</td>\n",
       "      <td>10</td>\n",
       "      <td>1.8</td>\n",
       "      <td>20.5</td>\n",
       "      <td>10</td>\n",
       "      <td>2.2</td>\n",
       "      <td>22.9</td>\n",
       "      <td>2.0</td>\n",
       "      <td>42.8</td>\n",
       "      <td>0.000001</td>\n",
       "      <td>0.002561</td>\n",
       "      <td>1.4</td>\n",
       "      <td>3.0</td>\n",
       "      <td>PASS</td>\n",
       "    </tr>\n",
       "    <tr>\n",
       "      <th>4</th>\n",
       "      <td>ENSG00000182185</td>\n",
       "      <td>RAD51B</td>\n",
       "      <td>RAD51 paralog B</td>\n",
       "      <td>nucleus|nucleoplasm|replication fork|Rad51B-Ra...</td>\n",
       "      <td>double-strand break repair via homologous reco...</td>\n",
       "      <td>four-way junction DNA binding|DNA binding|doub...</td>\n",
       "      <td>9</td>\n",
       "      <td>3.3</td>\n",
       "      <td>32.6</td>\n",
       "      <td>9</td>\n",
       "      <td>1.8</td>\n",
       "      <td>11.4</td>\n",
       "      <td>2.4</td>\n",
       "      <td>41.8</td>\n",
       "      <td>0.000001</td>\n",
       "      <td>0.002561</td>\n",
       "      <td>1.6</td>\n",
       "      <td>4.0</td>\n",
       "      <td>PASS</td>\n",
       "    </tr>\n",
       "  </tbody>\n",
       "</table>\n",
       "</div>"
      ],
      "text/plain": [
       "           #GeneID   Symbol                                       GeneInfo  \\\n",
       "0  ENSG00000163946  FAM208A  family with sequence similarity 208, member A   \n",
       "1  ENSG00000133422    MORC2              MORC family CW-type zinc finger 2   \n",
       "2  ENSG00000116809   ZBTB17       zinc finger and BTB domain containing 17   \n",
       "3  ENSG00000107290     SETX                                      senataxin   \n",
       "4  ENSG00000182185   RAD51B                                RAD51 paralog B   \n",
       "\n",
       "                                        Localization  \\\n",
       "0                                               None   \n",
       "1                         nucleus|cytoplasm|cytosol|   \n",
       "2                                       nucleoplasm|   \n",
       "3           nucleus|nucleoplasm|nucleolus|cytoplasm|   \n",
       "4  nucleus|nucleoplasm|replication fork|Rad51B-Ra...   \n",
       "\n",
       "                                             Process  \\\n",
       "0                                               None   \n",
       "1                                               None   \n",
       "2  gastrulation with mouth forming second|transcr...   \n",
       "3  double-strand break repair|termination of RNA ...   \n",
       "4  double-strand break repair via homologous reco...   \n",
       "\n",
       "                                            Function  # elements 1  \\\n",
       "0                               poly(A) RNA binding|            10   \n",
       "1                      ATP binding|zinc ion binding|            10   \n",
       "2  DNA binding|sequence-specific DNA binding tran...            10   \n",
       "3     DNA binding|DNA helicase activity|ATP binding|            10   \n",
       "4  four-way junction DNA binding|DNA binding|doub...             9   \n",
       "\n",
       "   casTLE Effect 1  casTLE Score 1  # elements 2  casTLE Effect 2  \\\n",
       "0              3.3            35.5             9              2.9   \n",
       "1              3.1            36.5            10              2.9   \n",
       "2             -5.2            22.6             9             -2.8   \n",
       "3              1.8            20.5            10              2.2   \n",
       "4              3.3            32.6             9              1.8   \n",
       "\n",
       "   casTLE Score 2  Combo casTLE Effect  Combo casTLE Score  casTLE p-value  \\\n",
       "0            43.7                  3.1                78.8        0.000001   \n",
       "1            40.8                  3.0                76.8        0.000001   \n",
       "2            27.6                 -5.1                49.2        0.000001   \n",
       "3            22.9                  2.0                42.8        0.000001   \n",
       "4            11.4                  2.4                41.8        0.000001   \n",
       "\n",
       "    q-value  Minimum Effect 95% Credible Interval Estimate  \\\n",
       "0  0.002561                                            2.3   \n",
       "1  0.002561                                            2.2   \n",
       "2  0.002561                                           -7.6   \n",
       "3  0.002561                                            1.4   \n",
       "4  0.002561                                            1.6   \n",
       "\n",
       "   Maximum Effect 95% Credible Interval Estimate Unnamed: 18  \n",
       "0                                            4.3        PASS  \n",
       "1                                            4.1        PASS  \n",
       "2                                           -1.7        PASS  \n",
       "3                                            3.0        PASS  \n",
       "4                                            4.0        PASS  "
      ]
     },
     "execution_count": 6,
     "metadata": {},
     "output_type": "execute_result"
    }
   ],
   "source": [
    "k562_wg.head()"
   ]
  },
  {
   "cell_type": "code",
   "execution_count": 7,
   "metadata": {},
   "outputs": [],
   "source": [
    "# secondary screen from Liu18\n",
    "filename = '../data/liu19/genes that pass secondary in HeLa and K562(164).xlsx'\n",
    "secd = pd.read_excel(filename)\n",
    "k562 = np.append(secd['in common K562 and HeLa(89)'], secd['K562only(53)'])\n",
    "k562 = [i for i in k562 if type(i)==str]\n",
    "hela = np.append(secd['in common K562 and HeLa(89)'], secd['HeLa only(22)'])\n",
    "hela = [i for i in hela if type(i)==str]"
   ]
  },
  {
   "cell_type": "code",
   "execution_count": 14,
   "metadata": {},
   "outputs": [],
   "source": [
    "# match back to the whole genome screen Liu18 to get the directions\n",
    "k562_liu = k562_wg[k562_wg['Symbol'].isin(k562)]"
   ]
  },
  {
   "cell_type": "code",
   "execution_count": 15,
   "metadata": {},
   "outputs": [
    {
     "data": {
      "text/plain": [
       "(142, 19)"
      ]
     },
     "execution_count": 15,
     "metadata": {},
     "output_type": "execute_result"
    }
   ],
   "source": [
    "k562_liu.shape"
   ]
  },
  {
   "cell_type": "code",
   "execution_count": 16,
   "metadata": {},
   "outputs": [],
   "source": [
    "hela_liu = hela_wg[hela_wg['Symbol'].isin(hela)]"
   ]
  },
  {
   "cell_type": "code",
   "execution_count": 17,
   "metadata": {},
   "outputs": [
    {
     "data": {
      "text/plain": [
       "(110, 19)"
      ]
     },
     "execution_count": 17,
     "metadata": {},
     "output_type": "execute_result"
    }
   ],
   "source": [
    "hela_liu.shape"
   ]
  },
  {
   "cell_type": "code",
   "execution_count": 19,
   "metadata": {},
   "outputs": [],
   "source": [
    "hela_liu_up = hela_liu[hela_liu['Combo casTLE Effect'] > 0]\n",
    "hela_liu_dw = hela_liu[hela_liu['Combo casTLE Effect'] < 0]"
   ]
  },
  {
   "cell_type": "code",
   "execution_count": 20,
   "metadata": {},
   "outputs": [
    {
     "data": {
      "text/plain": [
       "(60, 19)"
      ]
     },
     "execution_count": 20,
     "metadata": {},
     "output_type": "execute_result"
    }
   ],
   "source": [
    "hela_liu_up.shape"
   ]
  },
  {
   "cell_type": "code",
   "execution_count": 22,
   "metadata": {},
   "outputs": [
    {
     "data": {
      "text/plain": [
       "(45, 19)"
      ]
     },
     "execution_count": 22,
     "metadata": {},
     "output_type": "execute_result"
    }
   ],
   "source": [
    "hela_liu_dw.shape"
   ]
  },
  {
   "cell_type": "code",
   "execution_count": 23,
   "metadata": {},
   "outputs": [
    {
     "data": {
      "text/html": [
       "<div>\n",
       "<style scoped>\n",
       "    .dataframe tbody tr th:only-of-type {\n",
       "        vertical-align: middle;\n",
       "    }\n",
       "\n",
       "    .dataframe tbody tr th {\n",
       "        vertical-align: top;\n",
       "    }\n",
       "\n",
       "    .dataframe thead th {\n",
       "        text-align: right;\n",
       "    }\n",
       "</style>\n",
       "<table border=\"1\" class=\"dataframe\">\n",
       "  <thead>\n",
       "    <tr style=\"text-align: right;\">\n",
       "      <th></th>\n",
       "      <th>#GeneID</th>\n",
       "      <th>Symbol</th>\n",
       "      <th>GeneInfo</th>\n",
       "      <th>Localization</th>\n",
       "      <th>Process</th>\n",
       "      <th>Function</th>\n",
       "      <th># elements 1</th>\n",
       "      <th>casTLE Effect 1</th>\n",
       "      <th>casTLE Score 1</th>\n",
       "      <th># elements 2</th>\n",
       "      <th>casTLE Effect 2</th>\n",
       "      <th>casTLE Score 2</th>\n",
       "      <th>Combo casTLE Effect</th>\n",
       "      <th>Combo casTLE Score</th>\n",
       "      <th>casTLE p-value</th>\n",
       "      <th>q-values</th>\n",
       "      <th>Minimum Effect Estimate</th>\n",
       "      <th>Maximum Effect Estimate</th>\n",
       "      <th>Unnamed: 18</th>\n",
       "    </tr>\n",
       "  </thead>\n",
       "  <tbody>\n",
       "    <tr>\n",
       "      <th>18354</th>\n",
       "      <td>ENSG00000135655</td>\n",
       "      <td>USP15</td>\n",
       "      <td>ubiquitin specific peptidase 15</td>\n",
       "      <td>nucleus|cytoplasm|</td>\n",
       "      <td>ubiquitin-dependent protein catabolic process|...</td>\n",
       "      <td>cysteine-type endopeptidase activity|ubiquitin...</td>\n",
       "      <td>10</td>\n",
       "      <td>-0.9</td>\n",
       "      <td>0.5560</td>\n",
       "      <td>10</td>\n",
       "      <td>0.0</td>\n",
       "      <td>0.0000</td>\n",
       "      <td>0.0</td>\n",
       "      <td>0.0</td>\n",
       "      <td>0.895</td>\n",
       "      <td>0.645763</td>\n",
       "      <td>-2.8</td>\n",
       "      <td>1.2</td>\n",
       "      <td>FAIL</td>\n",
       "    </tr>\n",
       "    <tr>\n",
       "      <th>18460</th>\n",
       "      <td>ENSG00000197771</td>\n",
       "      <td>MCMBP</td>\n",
       "      <td>minichromosome maintenance complex binding pro...</td>\n",
       "      <td>nucleus|cytoplasm|plasma membrane|MCM complex|</td>\n",
       "      <td>mitotic S phase|mitotic S phase|DNA-dependent ...</td>\n",
       "      <td>chromatin binding|protein binding|</td>\n",
       "      <td>9</td>\n",
       "      <td>0.5</td>\n",
       "      <td>0.1350</td>\n",
       "      <td>8</td>\n",
       "      <td>1.5</td>\n",
       "      <td>0.0641</td>\n",
       "      <td>0.0</td>\n",
       "      <td>0.0</td>\n",
       "      <td>0.895</td>\n",
       "      <td>0.645763</td>\n",
       "      <td>-1.4</td>\n",
       "      <td>2.8</td>\n",
       "      <td>FAIL</td>\n",
       "    </tr>\n",
       "    <tr>\n",
       "      <th>18722</th>\n",
       "      <td>ENSG00000174405</td>\n",
       "      <td>LIG4</td>\n",
       "      <td>ligase IV, DNA, ATP-dependent</td>\n",
       "      <td>condensed chromosome|nucleus|nucleoplasm|cytop...</td>\n",
       "      <td>single strand break repair|in utero embryonic ...</td>\n",
       "      <td>DNA binding|DNA ligase activity|DNA ligase act...</td>\n",
       "      <td>10</td>\n",
       "      <td>0.0</td>\n",
       "      <td>0.0000</td>\n",
       "      <td>8</td>\n",
       "      <td>-1.9</td>\n",
       "      <td>0.3000</td>\n",
       "      <td>0.0</td>\n",
       "      <td>0.0</td>\n",
       "      <td>0.895</td>\n",
       "      <td>0.645763</td>\n",
       "      <td>-3.7</td>\n",
       "      <td>1.2</td>\n",
       "      <td>FAIL</td>\n",
       "    </tr>\n",
       "    <tr>\n",
       "      <th>19904</th>\n",
       "      <td>ENSG00000213397</td>\n",
       "      <td>HAUS7</td>\n",
       "      <td>HAUS augmin-like complex, subunit 7</td>\n",
       "      <td>nucleolus|cytoplasm|centrosome|spindle|microtu...</td>\n",
       "      <td>mitotic nuclear division|spindle assembly|cent...</td>\n",
       "      <td>thioesterase binding|thioesterase binding|</td>\n",
       "      <td>10</td>\n",
       "      <td>0.0</td>\n",
       "      <td>0.0000</td>\n",
       "      <td>9</td>\n",
       "      <td>0.0</td>\n",
       "      <td>0.0000</td>\n",
       "      <td>0.0</td>\n",
       "      <td>0.0</td>\n",
       "      <td>0.895</td>\n",
       "      <td>0.645763</td>\n",
       "      <td>-2.4</td>\n",
       "      <td>1.7</td>\n",
       "      <td>FAIL</td>\n",
       "    </tr>\n",
       "    <tr>\n",
       "      <th>20328</th>\n",
       "      <td>ENSG00000198231</td>\n",
       "      <td>DDX42</td>\n",
       "      <td>DEAD (Asp-Glu-Ala-Asp) box helicase 42</td>\n",
       "      <td>nucleus|cytoplasm|Cajal body|membrane|nuclear ...</td>\n",
       "      <td>ATP catabolic process|protein localization|</td>\n",
       "      <td>protein binding|ATP binding|ATP-dependent heli...</td>\n",
       "      <td>10</td>\n",
       "      <td>-0.1</td>\n",
       "      <td>0.0319</td>\n",
       "      <td>9</td>\n",
       "      <td>0.1</td>\n",
       "      <td>0.0668</td>\n",
       "      <td>0.0</td>\n",
       "      <td>0.0</td>\n",
       "      <td>0.895</td>\n",
       "      <td>0.645763</td>\n",
       "      <td>-3.6</td>\n",
       "      <td>5.7</td>\n",
       "      <td>FAIL</td>\n",
       "    </tr>\n",
       "  </tbody>\n",
       "</table>\n",
       "</div>"
      ],
      "text/plain": [
       "               #GeneID Symbol  \\\n",
       "18354  ENSG00000135655  USP15   \n",
       "18460  ENSG00000197771  MCMBP   \n",
       "18722  ENSG00000174405   LIG4   \n",
       "19904  ENSG00000213397  HAUS7   \n",
       "20328  ENSG00000198231  DDX42   \n",
       "\n",
       "                                                GeneInfo  \\\n",
       "18354                    ubiquitin specific peptidase 15   \n",
       "18460  minichromosome maintenance complex binding pro...   \n",
       "18722                      ligase IV, DNA, ATP-dependent   \n",
       "19904                HAUS augmin-like complex, subunit 7   \n",
       "20328             DEAD (Asp-Glu-Ala-Asp) box helicase 42   \n",
       "\n",
       "                                            Localization  \\\n",
       "18354                                 nucleus|cytoplasm|   \n",
       "18460     nucleus|cytoplasm|plasma membrane|MCM complex|   \n",
       "18722  condensed chromosome|nucleus|nucleoplasm|cytop...   \n",
       "19904  nucleolus|cytoplasm|centrosome|spindle|microtu...   \n",
       "20328  nucleus|cytoplasm|Cajal body|membrane|nuclear ...   \n",
       "\n",
       "                                                 Process  \\\n",
       "18354  ubiquitin-dependent protein catabolic process|...   \n",
       "18460  mitotic S phase|mitotic S phase|DNA-dependent ...   \n",
       "18722  single strand break repair|in utero embryonic ...   \n",
       "19904  mitotic nuclear division|spindle assembly|cent...   \n",
       "20328        ATP catabolic process|protein localization|   \n",
       "\n",
       "                                                Function  # elements 1  \\\n",
       "18354  cysteine-type endopeptidase activity|ubiquitin...            10   \n",
       "18460                 chromatin binding|protein binding|             9   \n",
       "18722  DNA binding|DNA ligase activity|DNA ligase act...            10   \n",
       "19904         thioesterase binding|thioesterase binding|            10   \n",
       "20328  protein binding|ATP binding|ATP-dependent heli...            10   \n",
       "\n",
       "       casTLE Effect 1  casTLE Score 1  # elements 2  casTLE Effect 2  \\\n",
       "18354             -0.9          0.5560            10              0.0   \n",
       "18460              0.5          0.1350             8              1.5   \n",
       "18722              0.0          0.0000             8             -1.9   \n",
       "19904              0.0          0.0000             9              0.0   \n",
       "20328             -0.1          0.0319             9              0.1   \n",
       "\n",
       "       casTLE Score 2  Combo casTLE Effect  Combo casTLE Score  \\\n",
       "18354          0.0000                  0.0                 0.0   \n",
       "18460          0.0641                  0.0                 0.0   \n",
       "18722          0.3000                  0.0                 0.0   \n",
       "19904          0.0000                  0.0                 0.0   \n",
       "20328          0.0668                  0.0                 0.0   \n",
       "\n",
       "       casTLE p-value  q-values  Minimum Effect Estimate  \\\n",
       "18354           0.895  0.645763                     -2.8   \n",
       "18460           0.895  0.645763                     -1.4   \n",
       "18722           0.895  0.645763                     -3.7   \n",
       "19904           0.895  0.645763                     -2.4   \n",
       "20328           0.895  0.645763                     -3.6   \n",
       "\n",
       "       Maximum Effect Estimate Unnamed: 18  \n",
       "18354                      1.2        FAIL  \n",
       "18460                      2.8        FAIL  \n",
       "18722                      1.2        FAIL  \n",
       "19904                      1.7        FAIL  \n",
       "20328                      5.7        FAIL  "
      ]
     },
     "execution_count": 23,
     "metadata": {},
     "output_type": "execute_result"
    }
   ],
   "source": [
    "hela_liu[hela_liu['Combo casTLE Effect'] == 0]"
   ]
  },
  {
   "cell_type": "code",
   "execution_count": 63,
   "metadata": {},
   "outputs": [],
   "source": [
    "# load our data\n",
    "data = pd.read_csv('../data/genes_all_GFP_updown.txt', sep='\\t')\n",
    "up_genes = data.loc[data['up_down'] == 'U']['CompoundId'].to_list()\n",
    "dw_genes = data.loc[data['up_down'] == 'D']['CompoundId'].to_list()"
   ]
  },
  {
   "cell_type": "code",
   "execution_count": 64,
   "metadata": {},
   "outputs": [
    {
     "data": {
      "text/plain": [
       "220"
      ]
     },
     "execution_count": 64,
     "metadata": {},
     "output_type": "execute_result"
    }
   ],
   "source": [
    "len(up_genes)"
   ]
  },
  {
   "cell_type": "code",
   "execution_count": 65,
   "metadata": {},
   "outputs": [
    {
     "data": {
      "text/plain": [
       "2681"
      ]
     },
     "execution_count": 65,
     "metadata": {},
     "output_type": "execute_result"
    }
   ],
   "source": [
    "len(dw_genes)"
   ]
  },
  {
   "cell_type": "code",
   "execution_count": null,
   "metadata": {},
   "outputs": [],
   "source": []
  }
 ],
 "metadata": {
  "kernelspec": {
   "display_name": "Python 3",
   "language": "python",
   "name": "python3"
  },
  "language_info": {
   "codemirror_mode": {
    "name": "ipython",
    "version": 3
   },
   "file_extension": ".py",
   "mimetype": "text/x-python",
   "name": "python",
   "nbconvert_exporter": "python",
   "pygments_lexer": "ipython3",
   "version": "3.6.8"
  }
 },
 "nbformat": 4,
 "nbformat_minor": 2
}
